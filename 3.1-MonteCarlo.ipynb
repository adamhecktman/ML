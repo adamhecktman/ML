{
 "cells": [
  {
   "cell_type": "markdown",
   "metadata": {},
   "source": [
    "# Advanced Machine Learning\n",
    "\n",
    "## Monte Carlo Simulations \n",
    "\n",
    "A Monte Carlo method is a probabilistic algorithm that relies on random sampling rather than strict determinism to obtain its result. Monte Carlo methods are useful in many fields, particularly when the complexity of the problem in question renders deterministic solutions infeasible."
   ]
  },
  {
   "cell_type": "code",
   "execution_count": 1,
   "metadata": {},
   "outputs": [],
   "source": [
    "from matplotlib import pyplot as plt\n",
    "import math\n",
    "import numpy as np\n",
    "import pandas as pd\n",
    "from numpy.random import normal\n",
    "\n",
    "%matplotlib inline"
   ]
  },
  {
   "cell_type": "markdown",
   "metadata": {},
   "source": [
    "\n",
    "## 1. Sampling Distributions\n",
    "\n",
    "### Example of effect of size of the data on monte carlo sample\n",
    "\n",
    "We have a function that defines the probability distribution of a random variable. We will use a Gaussian distribution with a mean of 50 and a standard deviation of 5 and draw random samples from this distribution. \n",
    "\n",
    "Assume that we don’t know the form of the probability distribution for this random variable and we want to sample the function to get an idea of the probability density. We can draw a sample of a given size and plot a histogram to estimate the density.\n",
    "\n",
    "We would expect that as the size of the sample is increased, the probability density will better approximate the true density of the target function, given the law of large numbers."
   ]
  },
  {
   "cell_type": "code",
   "execution_count": 19,
   "metadata": {},
   "outputs": [
    {
     "data": {
      "image/png": "[encoded data removed]",
      "text/plain": [
       "<Figure size 864x360 with 6 Axes>"
      ]
     },
     "metadata": {
      "needs_background": "light"
     },
     "output_type": "display_data"
    }
   ],
   "source": [
    "# define the distribution\n",
    "mu = 50\n",
    "sigma = 5\n",
    "\n",
    "# generate monte carlo samples of differing sizes\n",
    "sizes = [5, 10, 50, 100, 1000, 5000]\n",
    "fig = plt.gcf()\n",
    "fig.set_figwidth(12)\n",
    "fig.set_figheight(5)\n",
    "\n",
    "for i in range(len(sizes)):\n",
    "    # generate sample\n",
    "    sample = normal(mu, sigma, sizes[i])\n",
    "    # plot histogram of sample\n",
    "    plt.subplot(2, 3, i+1)\n",
    "    plt.hist(sample, bins=20)\n",
    "    plt.title('%d samples' % sizes[i])\n",
    "    plt.xticks([])\n",
    "# show the plot\n",
    "plt.show()"
   ]
  },
  {
   "cell_type": "markdown",
   "metadata": {},
   "source": [
    "\n",
    "### 2. Pi Estimation\n",
    "\n",
    "Let r = 1.0 be both the radius of the circle and the length of one side of the square, then the area of the quarter-circle inside the square is $(1/4)πr^2$ and the area of the square is $r^2$, making the ratio of these two areas\n",
    "\n",
    "$$((1/4)πr^2)/r^2=π/4$$\n",
    "\n",
    "A Monte Carlo method for determining π using this knowledge works by:\n",
    "\n",
    "1. Drawing a set of random points from inside the unit square\n",
    "2. Counting the number of points that fall inside the quarter of the unit circle\n",
    "3. Calculating the ratio of the number of points inside the quarter of the unit circle to the total number of points, which approaches π/4 as the number of random points increases.\n",
    "\n",
    "This algorithm illustrates the main features of a Monte Carlo method: random (uniformly-distributed) simulation of trials applied over a system that converges as the number of trials increases."
   ]
  },
  {
   "cell_type": "code",
   "execution_count": 3,
   "metadata": {},
   "outputs": [
    {
     "name": "stdout",
     "output_type": "stream",
     "text": [
      "          x         y\n",
      "0  0.436844  0.349264\n",
      "1  0.415522  0.332631\n",
      "2  0.369161  0.647477\n",
      "3  0.216967  0.933681\n",
      "4  0.312732  0.981292\n",
      "5  0.164864  0.866430\n",
      "6  0.082812  0.945774\n",
      "7  0.168464  0.232012\n",
      "8  0.019022  0.534628\n",
      "9  0.432785  0.642337\n"
     ]
    }
   ],
   "source": [
    "n_points = 30000\n",
    "df = pd.DataFrame(np.random.rand(n_points, 2), columns=['x', 'y'])\n",
    "print (df[:10])"
   ]
  },
  {
   "cell_type": "code",
   "execution_count": 4,
   "metadata": {},
   "outputs": [],
   "source": [
    "def within_unit_circle(row):\n",
    "    x, y = row['x'], row['y']\n",
    "    return math.sqrt(x**2.0 + y**2.0) <= 1.0"
   ]
  },
  {
   "cell_type": "code",
   "execution_count": 5,
   "metadata": {},
   "outputs": [
    {
     "name": "stdout",
     "output_type": "stream",
     "text": [
      "          x         y  within_unit_circle\n",
      "0  0.436844  0.349264                True\n",
      "1  0.415522  0.332631                True\n",
      "2  0.369161  0.647477                True\n",
      "3  0.216967  0.933681                True\n",
      "4  0.312732  0.981292               False\n",
      "5  0.164864  0.866430                True\n",
      "6  0.082812  0.945774                True\n",
      "7  0.168464  0.232012                True\n",
      "8  0.019022  0.534628                True\n",
      "9  0.432785  0.642337                True\n"
     ]
    }
   ],
   "source": [
    "df['within_unit_circle'] = df.apply(within_unit_circle, axis=1)\n",
    "print (df[:10])"
   ]
  },
  {
   "cell_type": "code",
   "execution_count": 10,
   "metadata": {},
   "outputs": [
    {
     "name": "stdout",
     "output_type": "stream",
     "text": [
      "3\n",
      "0\n",
      "2\n",
      "23481\n"
     ]
    }
   ],
   "source": [
    "boolean_frame = pd.DataFrame({\n",
    "    'true_blue': [True, True, True],\n",
    "    'falsehood': [False, False, False],\n",
    "    'unseemly_fraternization': [True, False, True],\n",
    "})\n",
    "\n",
    "print (boolean_frame['true_blue'].sum())\n",
    "print (boolean_frame['falsehood'].sum())\n",
    "print (boolean_frame['unseemly_fraternization'].sum())\n",
    "print (df['within_unit_circle'].sum())"
   ]
  },
  {
   "cell_type": "code",
   "execution_count": 8,
   "metadata": {},
   "outputs": [
    {
     "name": "stdout",
     "output_type": "stream",
     "text": [
      "3.1308\n",
      "3.141592653589793\n",
      "0.01079265358979331\n"
     ]
    }
   ],
   "source": [
    "almost_pi = df['within_unit_circle'].sum() / len(df) * 4.0\n",
    "\n",
    "print (almost_pi)\n",
    "print (math.pi)\n",
    "print (abs(almost_pi - math.pi))"
   ]
  },
  {
   "cell_type": "code",
   "execution_count": 9,
   "metadata": {},
   "outputs": [
    {
     "data": {
      "text/plain": [
       "(0.0, 1.0, 0.0, 1.0)"
      ]
     },
     "execution_count": 9,
     "metadata": {},
     "output_type": "execute_result"
    },
    {
     "data": {
      "image/png": "[encoded data removed]",
      "text/plain": [
       "<Figure size 360x360 with 1 Axes>"
      ]
     },
     "metadata": {
      "needs_background": "light"
     },
     "output_type": "display_data"
    }
   ],
   "source": [
    "plt.scatter(df['x'], df['y'], c=[within and 'red' or 'blue' for within in df['within_unit_circle']], alpha=0.5)\n",
    "\n",
    "fig = plt.gcf()\n",
    "fig.set_figwidth(5)\n",
    "fig.set_figheight(5)\n",
    "\n",
    "ax = plt.gca()\n",
    "ax.axis([0.0, 1.0, 0.0, 1.0])"
   ]
  }
 ],
 "metadata": {
  "kernelspec": {
   "display_name": "Python 3",
   "language": "python",
   "name": "python3"
  },
  "language_info": {
   "codemirror_mode": {
    "name": "ipython",
    "version": 3
   },
   "file_extension": ".py",
   "mimetype": "text/x-python",
   "name": "python",
   "nbconvert_exporter": "python",
   "pygments_lexer": "ipython3",
   "version": "3.7.4"
  }
 },
 "nbformat": 4,
 "nbformat_minor": 2
}
