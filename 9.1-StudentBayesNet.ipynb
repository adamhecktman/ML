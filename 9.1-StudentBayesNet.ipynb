{
 "cells": [
  {
   "cell_type": "markdown",
   "metadata": {},
   "source": [
    "# Advanced ML\n",
    "\n",
    "## Student Bayes Net\n",
    "\n",
    "Bayesian Belief Network or Bayesian Network or Belief Network is a Probabilistic Graphical Model (PGM) that represents conditional dependencies between random variables through a Directed Acyclic Graph (DAG).Bayesian Networks are applied in many fields. For example, disease diagnosis, optimized web search, spam filtering, gene regulatory networks, etc.\n",
    "\n",
    "We will build a Students Bayes network.\n",
    "\n",
    "<img src=\"student_net.png\" width=50% />"
   ]
  },
  {
   "cell_type": "code",
   "execution_count": 1,
   "metadata": {},
   "outputs": [],
   "source": [
    "import networkx as nx\n",
    "import pylab as plt\n",
    "from pgmpy.factors.discrete.CPD import TabularCPD\n",
    "from pgmpy.models import BayesianModel"
   ]
  },
  {
   "cell_type": "markdown",
   "metadata": {},
   "source": [
    "## A - Set up the model\n",
    "\n",
    "### 1. Set the structure"
   ]
  },
  {
   "cell_type": "code",
   "execution_count": 2,
   "metadata": {},
   "outputs": [],
   "source": [
    "model = BayesianModel([('diff', 'grade'), ('intel', 'grade'), ('intel', 'sat'), ('grade', 'letter')])"
   ]
  },
  {
   "cell_type": "markdown",
   "metadata": {},
   "source": [
    "### 2. Visualize the model"
   ]
  },
  {
   "cell_type": "code",
   "execution_count": 3,
   "metadata": {},
   "outputs": [
    {
     "data": {
      "image/png": "[encoded data removed]",
      "text/plain": [
       "<Figure size 432x288 with 1 Axes>"
      ]
     },
     "metadata": {},
     "output_type": "display_data"
    }
   ],
   "source": [
    "options = {\n",
    "    'node_color': 'b',\n",
    "    'node_size': 3000,\n",
    "    'width': 6,\n",
    "    'alpha':0.3,\n",
    "    'edge_color':'r'\n",
    "}\n",
    "\n",
    "nx.draw(model, with_labels=True, **options)\n",
    "plt.show()"
   ]
  },
  {
   "cell_type": "markdown",
   "metadata": {},
   "source": [
    "###  3.Set up the relationships (the CPDs)"
   ]
  },
  {
   "cell_type": "code",
   "execution_count": 4,
   "metadata": {},
   "outputs": [],
   "source": [
    "cpd_diff = TabularCPD('diff',2,[[0.6,0.4]]);\n",
    "cpd_intel = TabularCPD('intel',2,[[0.7,0.3]]);\n",
    "\n",
    "cpd_grade = TabularCPD('grade', 3, [[0.3, 0.05, 0.9, 0.5],\n",
    "                                    [0.4, 0.25, 0.08, 0.3],\n",
    "                                    [0.3, 0.7, 0.02, 0.2]],\n",
    "                                 evidence=['intel', 'diff'], evidence_card=[2, 2])\n",
    "\n",
    "cpd_sat = TabularCPD('sat', 2, [[0.95, 0.2],\n",
    "                                    [0.05, 0.8]],\n",
    "                                 evidence=['intel'], evidence_card=[2])\n",
    "\n",
    "cpd_letter = TabularCPD('letter', 2, [[0.1, 0.4, 0.99],\n",
    "                                    [0.9, 0.6,0.01]],\n",
    "                                 evidence=['grade'], evidence_card=[3])"
   ]
  },
  {
   "cell_type": "markdown",
   "metadata": {},
   "source": [
    "### 4. Add relationships to the model"
   ]
  },
  {
   "cell_type": "code",
   "execution_count": 5,
   "metadata": {},
   "outputs": [],
   "source": [
    "model.add_cpds(cpd_diff,cpd_intel,cpd_grade, cpd_sat, cpd_letter)"
   ]
  },
  {
   "cell_type": "markdown",
   "metadata": {},
   "source": [
    "### 5. Examine the structure of your graph"
   ]
  },
  {
   "cell_type": "code",
   "execution_count": 6,
   "metadata": {},
   "outputs": [
    {
     "data": {
      "text/plain": [
       "[<TabularCPD representing P(diff:2) at 0x18cdc406808>,\n",
       " <TabularCPD representing P(intel:2) at 0x18cdc4067c8>,\n",
       " <TabularCPD representing P(grade:3 | intel:2, diff:2) at 0x18cdc406888>,\n",
       " <TabularCPD representing P(sat:2 | intel:2) at 0x18cdc406948>,\n",
       " <TabularCPD representing P(letter:2 | grade:3) at 0x18cdc4069c8>]"
      ]
     },
     "execution_count": 6,
     "metadata": {},
     "output_type": "execute_result"
    }
   ],
   "source": [
    "model.get_cpds()"
   ]
  },
  {
   "cell_type": "markdown",
   "metadata": {},
   "source": [
    "### 6. Find active trail nodes"
   ]
  },
  {
   "cell_type": "code",
   "execution_count": 7,
   "metadata": {},
   "outputs": [
    {
     "data": {
      "text/plain": [
       "{'grade': {'diff', 'grade', 'intel', 'letter', 'sat'}}"
      ]
     },
     "execution_count": 7,
     "metadata": {},
     "output_type": "execute_result"
    }
   ],
   "source": [
    "#path of influence\n",
    "model.active_trail_nodes('grade')"
   ]
  },
  {
   "cell_type": "code",
   "execution_count": 8,
   "metadata": {},
   "outputs": [
    {
     "data": {
      "text/plain": [
       "{'intel': {'grade', 'intel', 'letter', 'sat'}}"
      ]
     },
     "execution_count": 8,
     "metadata": {},
     "output_type": "execute_result"
    }
   ],
   "source": [
    "model.active_trail_nodes('intel')"
   ]
  },
  {
   "cell_type": "markdown",
   "metadata": {},
   "source": [
    "### 7. Find local independencies"
   ]
  },
  {
   "cell_type": "code",
   "execution_count": 9,
   "metadata": {},
   "outputs": [
    {
     "data": {
      "text/plain": [
       "(grade _|_ sat | diff, intel)"
      ]
     },
     "execution_count": 9,
     "metadata": {},
     "output_type": "execute_result"
    }
   ],
   "source": [
    "model.local_independencies('grade')"
   ]
  },
  {
   "cell_type": "code",
   "execution_count": 10,
   "metadata": {},
   "outputs": [
    {
     "data": {
      "text/plain": [
       "(intel _|_ diff)"
      ]
     },
     "execution_count": 10,
     "metadata": {},
     "output_type": "execute_result"
    }
   ],
   "source": [
    "model.local_independencies('intel')"
   ]
  },
  {
   "cell_type": "markdown",
   "metadata": {},
   "source": [
    "### 8. Get all independencies"
   ]
  },
  {
   "cell_type": "code",
   "execution_count": 11,
   "metadata": {},
   "outputs": [
    {
     "data": {
      "text/plain": [
       "(diff _|_ sat, intel)\n",
       "(diff _|_ intel | sat)\n",
       "(diff _|_ letter | grade)\n",
       "(diff _|_ sat | intel)\n",
       "(diff _|_ letter | sat, grade)\n",
       "(diff _|_ sat | letter, intel)\n",
       "(diff _|_ sat, letter | grade, intel)\n",
       "(diff _|_ letter | sat, grade, intel)\n",
       "(diff _|_ sat | letter, grade, intel)\n",
       "(grade _|_ sat | intel)\n",
       "(grade _|_ sat | diff, intel)\n",
       "(grade _|_ sat | letter, intel)\n",
       "(grade _|_ sat | diff, letter, intel)\n",
       "(intel _|_ diff)\n",
       "(intel _|_ letter | grade)\n",
       "(intel _|_ diff | sat)\n",
       "(intel _|_ letter | diff, grade)\n",
       "(intel _|_ letter | sat, grade)\n",
       "(intel _|_ letter | diff, grade, sat)\n",
       "(sat _|_ diff)\n",
       "(sat _|_ letter | grade)\n",
       "(sat _|_ diff, letter, grade | intel)\n",
       "(sat _|_ letter | diff, grade)\n",
       "(sat _|_ letter, grade | diff, intel)\n",
       "(sat _|_ diff, grade | letter, intel)\n",
       "(sat _|_ diff, letter | grade, intel)\n",
       "(sat _|_ grade | diff, letter, intel)\n",
       "(sat _|_ letter | diff, grade, intel)\n",
       "(sat _|_ diff | letter, grade, intel)\n",
       "(letter _|_ diff, sat, intel | grade)\n",
       "(letter _|_ sat | intel)\n",
       "(letter _|_ sat, intel | diff, grade)\n",
       "(letter _|_ sat | diff, intel)\n",
       "(letter _|_ diff, intel | sat, grade)\n",
       "(letter _|_ diff, sat | grade, intel)\n",
       "(letter _|_ intel | diff, grade, sat)\n",
       "(letter _|_ sat | diff, grade, intel)\n",
       "(letter _|_ diff | sat, grade, intel)"
      ]
     },
     "execution_count": 11,
     "metadata": {},
     "output_type": "execute_result"
    }
   ],
   "source": [
    "model.get_independencies()"
   ]
  },
  {
   "cell_type": "markdown",
   "metadata": {},
   "source": [
    "## B - Making inferences"
   ]
  },
  {
   "cell_type": "markdown",
   "metadata": {},
   "source": [
    "### 1. Marginal Inference \n",
    "\n",
    "Finding the probability distribution of a specific variable. \n",
    "\n",
    "For instance, given a graph with variables A, B, C, and D, where A takes values 1, 2, and 3, find p(A=1), p(A=2) and p(A=3)."
   ]
  },
  {
   "cell_type": "code",
   "execution_count": 12,
   "metadata": {},
   "outputs": [],
   "source": [
    "from pgmpy.inference import VariableElimination"
   ]
  },
  {
   "cell_type": "code",
   "execution_count": 13,
   "metadata": {},
   "outputs": [],
   "source": [
    "infer = VariableElimination(model)"
   ]
  },
  {
   "cell_type": "code",
   "execution_count": 14,
   "metadata": {},
   "outputs": [
    {
     "name": "stderr",
     "output_type": "stream",
     "text": [
      "Finding Elimination Order: : 100%|█████████████████████████████| 4/4 [00:00<00:00, 2047.25it/s]\n",
      "Eliminating: intel: 100%|███████████████████████████████████████| 4/4 [00:00<00:00, 409.85it/s]"
     ]
    },
    {
     "name": "stdout",
     "output_type": "stream",
     "text": [
      "+-----------+---------------+\n",
      "| letter    |   phi(letter) |\n",
      "+===========+===============+\n",
      "| letter(0) |        0.4977 |\n",
      "+-----------+---------------+\n",
      "| letter(1) |        0.5023 |\n",
      "+-----------+---------------+\n"
     ]
    },
    {
     "name": "stderr",
     "output_type": "stream",
     "text": [
      "\n"
     ]
    }
   ],
   "source": [
    "prob_letter = infer.query(variables = ['letter'])\n",
    "print(prob_letter)"
   ]
  },
  {
   "cell_type": "markdown",
   "metadata": {},
   "source": [
    "## Posterior inference: \n",
    "\n",
    "Given some observed variables v_E (E for evidence) that take values e, finding the posterior distribution p(v_H | v_E=e) for some hidden variables v_H.\n",
    "\n",
    "\n",
    "### Probability Queries\n",
    "\n",
    "We could use a joint probability distribution over multiple random variables to answer queries of interest. Perhaps the most common query probability query type is the probability query. Such a query consists ofwo parts:\n",
    "\n",
    "* evidence :  a subset $E$ of random variables in the model, and an instantiation $e$ to these\n",
    "* the query variables: a subset $Y$ of random variables in the network.\n",
    "\n",
    "Our task is to compute\n",
    "$$P(Y| E = e)$$\n",
    "that is, the posterior probability distribution over the values $y$ of $Y$ , conditioned on the fact that\n",
    "distribution $E = e$. This expression can also be viewed as the marginal over $Y$ , in the distribution we\n",
    "obtain by conditioning on $e$."
   ]
  },
  {
   "cell_type": "markdown",
   "metadata": {},
   "source": [
    "### 2a. Causal Reasoning"
   ]
  },
  {
   "cell_type": "code",
   "execution_count": 15,
   "metadata": {},
   "outputs": [
    {
     "name": "stderr",
     "output_type": "stream",
     "text": [
      "Finding Elimination Order: : 100%|█████████████████████████████| 3/3 [00:00<00:00, 1015.16it/s]\n",
      "Eliminating: intel: 100%|███████████████████████████████████████| 3/3 [00:00<00:00, 512.48it/s]"
     ]
    },
    {
     "name": "stdout",
     "output_type": "stream",
     "text": [
      "+-----------+---------------+\n",
      "| letter    |   phi(letter) |\n",
      "+===========+===============+\n",
      "| letter(0) |        0.1000 |\n",
      "+-----------+---------------+\n",
      "| letter(1) |        0.9000 |\n",
      "+-----------+---------------+\n"
     ]
    },
    {
     "name": "stderr",
     "output_type": "stream",
     "text": [
      "\n"
     ]
    }
   ],
   "source": [
    "prob_letter_good_grade = infer.query(variables = ['letter'], evidence = {'grade':0})\n",
    "print(prob_letter_good_grade)"
   ]
  },
  {
   "cell_type": "code",
   "execution_count": 16,
   "metadata": {},
   "outputs": [
    {
     "name": "stderr",
     "output_type": "stream",
     "text": [
      "Finding Elimination Order: : 100%|█████████████████████████████| 2/2 [00:00<00:00, 2050.50it/s]\n",
      "Eliminating: intel: 100%|███████████████████████████████████████| 2/2 [00:00<00:00, 512.47it/s]"
     ]
    },
    {
     "name": "stdout",
     "output_type": "stream",
     "text": [
      "+-----------+---------------+\n",
      "| letter    |   phi(letter) |\n",
      "+===========+===============+\n",
      "| letter(0) |        0.1000 |\n",
      "+-----------+---------------+\n",
      "| letter(1) |        0.9000 |\n",
      "+-----------+---------------+\n"
     ]
    },
    {
     "name": "stderr",
     "output_type": "stream",
     "text": [
      "\n"
     ]
    }
   ],
   "source": [
    "prob_letter_good_grade_bad_sat = infer.query(\n",
    "                                        variables = ['letter'], \n",
    "                                        evidence = {'grade':0, 'sat':0})\n",
    "print(prob_letter_good_grade_bad_sat)"
   ]
  },
  {
   "cell_type": "markdown",
   "metadata": {},
   "source": [
    "### 3b. Evidential Reasoning\n",
    "\n",
    "#### What can evidence can tell us  about the  probabilities of causal variables."
   ]
  },
  {
   "cell_type": "code",
   "execution_count": 17,
   "metadata": {},
   "outputs": [
    {
     "name": "stderr",
     "output_type": "stream",
     "text": [
      "Finding Elimination Order: : 100%|█████████████████████████████| 3/3 [00:00<00:00, 3075.75it/s]\n",
      "Eliminating: sat: 100%|█████████████████████████████████████████| 3/3 [00:00<00:00, 512.19it/s]"
     ]
    },
    {
     "name": "stdout",
     "output_type": "stream",
     "text": [
      "+----------+--------------+\n",
      "| intel    |   phi(intel) |\n",
      "+==========+==============+\n",
      "| intel(0) |       0.5415 |\n",
      "+----------+--------------+\n",
      "| intel(1) |       0.4585 |\n",
      "+----------+--------------+\n"
     ]
    },
    {
     "name": "stderr",
     "output_type": "stream",
     "text": [
      "\n"
     ]
    }
   ],
   "source": [
    "prob_high_intel_if_strong_letter  = infer.query(\n",
    "                                        variables = ['intel'], \n",
    "                                        evidence = {'letter':1})\n",
    "print(prob_high_intel_if_strong_letter)"
   ]
  },
  {
   "cell_type": "code",
   "execution_count": 18,
   "metadata": {},
   "outputs": [
    {
     "name": "stderr",
     "output_type": "stream",
     "text": [
      "Finding Elimination Order: : 100%|█████████████████████████████| 2/2 [00:00<00:00, 1029.02it/s]\n",
      "Eliminating: grade: 100%|███████████████████████████████████████| 2/2 [00:00<00:00, 512.50it/s]"
     ]
    },
    {
     "name": "stdout",
     "output_type": "stream",
     "text": [
      "+----------+--------------+\n",
      "| intel    |   phi(intel) |\n",
      "+==========+==============+\n",
      "| intel(0) |       0.5415 |\n",
      "+----------+--------------+\n",
      "| intel(1) |       0.4585 |\n",
      "+----------+--------------+\n"
     ]
    },
    {
     "name": "stderr",
     "output_type": "stream",
     "text": [
      "\n"
     ]
    }
   ],
   "source": [
    "prob_high_intel_if_strong_letter_diff_class  = infer.query(\n",
    "                                        variables = ['intel'], \n",
    "                                        evidence = {'letter':1, 'diff' : 1})\n",
    "print(prob_high_intel_if_strong_letter)"
   ]
  },
  {
   "cell_type": "markdown",
   "metadata": {},
   "source": [
    "## Map Queries\n",
    "\n",
    "Finding a high-probability joint assignment to some subset of variables. \n",
    "\n",
    "Maximum-a-posteriori (MAP) inference: Given some observed variables $v_E$ that take values $e$, finding the setting of other variables $v_H$ that have the highest probability.\n",
    "\n",
    "The simplest variant of this type of task is the MAP query (also called MAP assignment most probable explanation (MPE)), whose aim is to find the MAP assignment — the most likely assignment to all of the (non-evidence) variables. \n",
    "\n",
    "More precisely, if we let $W = X - E$, our task is to find the most likely assignment to the variables in W given the evidence $E = e$\n",
    "\n",
    "$$MAP(W | e) = arg max_w P(w, e)$$\n",
    "\n",
    "where, in general, $argmax_x f(x)$ represents the value of $x$ for which $f(x)$ is maximal. \n",
    "\n",
    "Note that there might be more than one assignment that has the highest posterior probability. In this case, we can either decide that the MAP task is to return the set of possible assignments, or to return an arbitrary member of that set.It is important to understand the difference\n",
    "\n",
    "#### We can find out the most probable state for a variable"
   ]
  },
  {
   "cell_type": "code",
   "execution_count": 19,
   "metadata": {},
   "outputs": [
    {
     "name": "stderr",
     "output_type": "stream",
     "text": [
      "Finding Elimination Order: : 100%|█████████████████████████████| 4/4 [00:00<00:00, 2049.75it/s]\n",
      "Eliminating: intel: 100%|███████████████████████████████████████| 4/4 [00:00<00:00, 448.85it/s]\n"
     ]
    },
    {
     "data": {
      "text/plain": [
       "{'letter': 1}"
      ]
     },
     "execution_count": 19,
     "metadata": {},
     "output_type": "execute_result"
    }
   ],
   "source": [
    "infer.map_query(variables = ['letter'])"
   ]
  },
  {
   "cell_type": "code",
   "execution_count": 20,
   "metadata": {},
   "outputs": [
    {
     "name": "stderr",
     "output_type": "stream",
     "text": [
      "Finding Elimination Order: : 100%|█████████████████████████████| 4/4 [00:00<00:00, 2049.75it/s]\n",
      "Eliminating: intel: 100%|███████████████████████████████████████| 4/4 [00:00<00:00, 409.84it/s]\n"
     ]
    },
    {
     "data": {
      "text/plain": [
       "{'grade': 0}"
      ]
     },
     "execution_count": 20,
     "metadata": {},
     "output_type": "execute_result"
    }
   ],
   "source": [
    "infer.map_query(variables = ['grade'])"
   ]
  },
  {
   "cell_type": "code",
   "execution_count": 21,
   "metadata": {},
   "outputs": [
    {
     "name": "stderr",
     "output_type": "stream",
     "text": [
      "Finding Elimination Order: : 100%|█████████████████████████████| 2/2 [00:00<00:00, 1024.38it/s]\n",
      "Eliminating: letter: 100%|██████████████████████████████████████| 2/2 [00:00<00:00, 409.90it/s]\n"
     ]
    },
    {
     "data": {
      "text/plain": [
       "{'sat': 1, 'grade': 0}"
      ]
     },
     "execution_count": 21,
     "metadata": {},
     "output_type": "execute_result"
    }
   ],
   "source": [
    "infer.map_query(variables = ['sat','grade'], evidence = {'intel' :1})"
   ]
  }
 ],
 "metadata": {
  "kernelspec": {
   "display_name": "Python 3",
   "language": "python",
   "name": "python3"
  },
  "language_info": {
   "codemirror_mode": {
    "name": "ipython",
    "version": 3
   },
   "file_extension": ".py",
   "mimetype": "text/x-python",
   "name": "python",
   "nbconvert_exporter": "python",
   "pygments_lexer": "ipython3",
   "version": "3.7.4"
  },
  "widgets": {
   "state": {},
   "version": "1.1.1"
  }
 },
 "nbformat": 4,
 "nbformat_minor": 1
}
