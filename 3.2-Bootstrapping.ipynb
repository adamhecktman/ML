{
 "cells": [
  {
   "cell_type": "markdown",
   "metadata": {},
   "source": [
    "# Advanced Machine Learning\n",
    "\n",
    "## Bootstrapping"
   ]
  },
  {
   "cell_type": "code",
   "execution_count": 1,
   "metadata": {},
   "outputs": [],
   "source": [
    "import numpy as np\n",
    "import matplotlib.pyplot as plt\n",
    "from sklearn.utils import resample"
   ]
  },
  {
   "cell_type": "code",
   "execution_count": 2,
   "metadata": {},
   "outputs": [
    {
     "data": {
      "text/plain": [
       "array([352, 392, 323, 118, 195,  91, 125, 131,  71, 440, 157,  48, 160,\n",
       "       408, 458, 265, 179, 139,  55, 114, 446, 195, 358, 325,  48, 156,\n",
       "       148, 136, 294, 468, 193, 385,  79, 325, 458, 329,  62,  21,  29,\n",
       "        90, 262, 166, 150, 447, 149, 196, 134, 238, 484, 354, 131,  20,\n",
       "        55, 385, 308, 265, 339,  82, 112, 121,  65, 426, 322, 439,  33,\n",
       "        80, 466, 200, 222, 475, 270, 232, 142, 203, 389, 294, 211, 355,\n",
       "        10,  80, 320, 335,  30, 212, 278,  46, 410, 444, 382, 246,  13,\n",
       "        24,  63, 153, 217, 383, 137,  69, 241, 431])"
      ]
     },
     "execution_count": 2,
     "metadata": {},
     "output_type": "execute_result"
    }
   ],
   "source": [
    "# generate a population \n",
    "np.random.seed(2020)\n",
    "pop = np.random.randint(0,500 , size=100)\n",
    "pop"
   ]
  },
  {
   "cell_type": "code",
   "execution_count": 3,
   "metadata": {},
   "outputs": [
    {
     "data": {
      "text/plain": [
       "225.12"
      ]
     },
     "execution_count": 3,
     "metadata": {},
     "output_type": "execute_result"
    }
   ],
   "source": [
    "# population mean\n",
    "pop.mean()"
   ]
  },
  {
   "cell_type": "code",
   "execution_count": 4,
   "metadata": {},
   "outputs": [
    {
     "data": {
      "text/plain": [
       "140.18732325000002"
      ]
     },
     "execution_count": 4,
     "metadata": {},
     "output_type": "execute_result"
    }
   ],
   "source": [
    "# population standard deviation\n",
    "pop.std()"
   ]
  },
  {
   "cell_type": "markdown",
   "metadata": {},
   "source": [
    "### Single sample"
   ]
  },
  {
   "cell_type": "code",
   "execution_count": 5,
   "metadata": {},
   "outputs": [
    {
     "data": {
      "text/plain": [
       "array([246, 265, 294,  21, 179, 265, 112, 325, 114,  90, 131,  21, 121,\n",
       "       352, 160,  79,  48, 265, 200, 118,  62, 355, 125, 149, 238, 217,\n",
       "       203, 355, 195, 355])"
      ]
     },
     "execution_count": 5,
     "metadata": {},
     "output_type": "execute_result"
    }
   ],
   "source": [
    "# draw a sample from population\n",
    "sample_size= 30\n",
    "sample = np.random.choice(pop, size=sample_size)\n",
    "sample"
   ]
  },
  {
   "cell_type": "code",
   "execution_count": 6,
   "metadata": {},
   "outputs": [
    {
     "data": {
      "text/plain": [
       "188.66666666666666"
      ]
     },
     "execution_count": 6,
     "metadata": {},
     "output_type": "execute_result"
    }
   ],
   "source": [
    "# our first sample mean\n",
    "sample_mean = sample.mean()\n",
    "\n",
    "# Sample mean\n",
    "sample_mean"
   ]
  },
  {
   "cell_type": "code",
   "execution_count": 7,
   "metadata": {},
   "outputs": [
    {
     "data": {
      "text/plain": [
       "103.1317648425558"
      ]
     },
     "execution_count": 7,
     "metadata": {},
     "output_type": "execute_result"
    }
   ],
   "source": [
    "# standard deviation for this sample\n",
    "sample_std = np.std(sample, ddof=1)\n",
    "\n",
    "#Sample SD\n",
    "sample_std"
   ]
  },
  {
   "cell_type": "code",
   "execution_count": 8,
   "metadata": {},
   "outputs": [
    {
     "data": {
      "text/plain": [
       "18.82919799986201"
      ]
     },
     "execution_count": 8,
     "metadata": {},
     "output_type": "execute_result"
    }
   ],
   "source": [
    "#standard error (SE) of a statistic is the standard deviation of its sampling distribution\n",
    "#estimated standard error for our sample mean is\n",
    "sample_std/(sample_size ** 0.5)"
   ]
  },
  {
   "cell_type": "markdown",
   "metadata": {},
   "source": [
    "### Simulation using sampling distributions"
   ]
  },
  {
   "cell_type": "code",
   "execution_count": 9,
   "metadata": {},
   "outputs": [],
   "source": [
    "# construct the simulated sampling distribution\n",
    "sample_props = []\n",
    "for _ in range(100000):\n",
    "    sample = np.random.choice(pop, size=sample_size,replace=False)\n",
    "    sample_props.append(sample.mean())"
   ]
  },
  {
   "cell_type": "code",
   "execution_count": 10,
   "metadata": {},
   "outputs": [],
   "source": [
    "# the simulated mean of the sampling distribution\n",
    "simulated_mean = np.mean(sample_props)"
   ]
  },
  {
   "cell_type": "code",
   "execution_count": 11,
   "metadata": {},
   "outputs": [],
   "source": [
    "# the simulated standard deviation of the sampling distribution\n",
    "simulated_std = np.std(sample_props)"
   ]
  },
  {
   "cell_type": "code",
   "execution_count": 12,
   "metadata": {},
   "outputs": [
    {
     "data": {
      "image/png": "[encoded data removed]",
      "text/plain": [
       "<Figure size 432x288 with 1 Axes>"
      ]
     },
     "metadata": {
      "needs_background": "light"
     },
     "output_type": "display_data"
    }
   ],
   "source": [
    "# plot the simulated sampling distribution,\n",
    "# under the Central Limit Theorem, it is expected normal\n",
    "plt.hist(sample_props)\n",
    "plt.show()"
   ]
  },
  {
   "cell_type": "code",
   "execution_count": 13,
   "metadata": {},
   "outputs": [
    {
     "data": {
      "text/plain": [
       "(225.12, 225.27839000000003)"
      ]
     },
     "execution_count": 13,
     "metadata": {},
     "output_type": "execute_result"
    }
   ],
   "source": [
    "# the theorical mean and simulated mean\n",
    "(pop.mean(), simulated_mean)"
   ]
  },
  {
   "cell_type": "code",
   "execution_count": 14,
   "metadata": {},
   "outputs": [
    {
     "data": {
      "text/plain": [
       "(25.59458640676448, 21.519440216983906)"
      ]
     },
     "execution_count": 14,
     "metadata": {},
     "output_type": "execute_result"
    }
   ],
   "source": [
    "# the theorical standard error and simulated standard error\n",
    "(pop.std()/(sample_size ** 0.5), simulated_std)"
   ]
  },
  {
   "cell_type": "markdown",
   "metadata": {},
   "source": [
    "### Bootstrap Samples"
   ]
  },
  {
   "cell_type": "code",
   "execution_count": 15,
   "metadata": {},
   "outputs": [
    {
     "data": {
      "text/plain": [
       "array([212, 131, 389, 389,  71, 153, 156,  62, 339,  20,  80, 118,  21,\n",
       "       157, 446,  79,  79, 431,  30, 270, 325, 446, 447, 238, 246, 323,\n",
       "       232, 382, 458, 484])"
      ]
     },
     "execution_count": 15,
     "metadata": {},
     "output_type": "execute_result"
    }
   ],
   "source": [
    "sample = np.random.choice(pop, size=sample_size)\n",
    "sample"
   ]
  },
  {
   "cell_type": "code",
   "execution_count": 16,
   "metadata": {},
   "outputs": [],
   "source": [
    "# bootstrap for mean\n",
    "boot_means = []\n",
    "for _ in range(100000):\n",
    "    boot_sample = np.random.choice(sample,size=sample_size, replace=True)\n",
    "    boot_means.append(boot_sample.mean())"
   ]
  },
  {
   "cell_type": "code",
   "execution_count": 17,
   "metadata": {},
   "outputs": [],
   "source": [
    "# simulated mean of means\n",
    "boot_mean = np.mean(boot_means)"
   ]
  },
  {
   "cell_type": "code",
   "execution_count": 18,
   "metadata": {},
   "outputs": [],
   "source": [
    "# simulated standard deviation of mean\n",
    "boot_mean_std = np.std(boot_means)"
   ]
  },
  {
   "cell_type": "code",
   "execution_count": 19,
   "metadata": {},
   "outputs": [
    {
     "data": {
      "text/plain": [
       "(225.12, 240.59708300000005)"
      ]
     },
     "execution_count": 19,
     "metadata": {},
     "output_type": "execute_result"
    }
   ],
   "source": [
    "# true mean vs simulated mean\n",
    "(pop.mean(), boot_mean)"
   ]
  },
  {
   "cell_type": "code",
   "execution_count": 20,
   "metadata": {},
   "outputs": [
    {
     "data": {
      "text/plain": [
       "(25.59458640676448, 27.6532348546141)"
      ]
     },
     "execution_count": 20,
     "metadata": {},
     "output_type": "execute_result"
    }
   ],
   "source": [
    "# the theorical standard error and simulated standard error\n",
    "(pop.std()/(sample_size ** 0.5), boot_mean_std)"
   ]
  },
  {
   "cell_type": "markdown",
   "metadata": {},
   "source": [
    "#### Sklearn API"
   ]
  },
  {
   "cell_type": "code",
   "execution_count": 21,
   "metadata": {},
   "outputs": [
    {
     "name": "stdout",
     "output_type": "stream",
     "text": [
      "Bootstrap Sample: [ 21 160 142 440 294  91  80  33 179 392 211 232 125 156 131 446  55 278\n",
      "  48 294 468 458 131 222 444 444 217 137 410 408]\n",
      "\n",
      "OOB : [352, 323, 118, 195, 71, 157, 265, 139, 114, 195, 358, 325, 148, 136, 193, 385, 79, 325, 329, 62, 29, 90, 262, 166, 150, 447, 149, 196, 134, 238, 484, 354, 20, 385, 308, 265, 339, 82, 112, 121, 65, 426, 322, 439, 466, 200, 475, 270, 203, 389, 355, 10, 320, 335, 30, 212, 46, 382, 246, 13, 24, 63, 153, 383, 69, 241, 431]\n"
     ]
    }
   ],
   "source": [
    "# using sklearn\n",
    "boot = resample(pop, replace=True, n_samples=sample_size, random_state=1)\n",
    "print('Bootstrap Sample: %s' % boot)\n",
    "\n",
    "# out of bag observations\n",
    "oob = [x for x in pop if x not in boot]\n",
    "print('\\nOOB : %s' % oob)"
   ]
  }
 ],
 "metadata": {
  "kernelspec": {
   "display_name": "Python 3",
   "language": "python",
   "name": "python3"
  },
  "language_info": {
   "codemirror_mode": {
    "name": "ipython",
    "version": 3
   },
   "file_extension": ".py",
   "mimetype": "text/x-python",
   "name": "python",
   "nbconvert_exporter": "python",
   "pygments_lexer": "ipython3",
   "version": "3.7.4"
  }
 },
 "nbformat": 4,
 "nbformat_minor": 4
}
