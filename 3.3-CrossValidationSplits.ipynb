{
 "cells": [
  {
   "cell_type": "markdown",
   "metadata": {},
   "source": [
    "## Advanced Machine Learning"
   ]
  },
  {
   "cell_type": "code",
   "execution_count": 1,
   "metadata": {},
   "outputs": [],
   "source": [
    "from sklearn.model_selection import *"
   ]
  },
  {
   "cell_type": "code",
   "execution_count": 2,
   "metadata": {},
   "outputs": [
    {
     "data": {
      "text/plain": [
       "[1, 2, 3, 4, 5, 6, 7, 8, 9]"
      ]
     },
     "execution_count": 2,
     "metadata": {},
     "output_type": "execute_result"
    }
   ],
   "source": [
    "X = range(1,10)\n",
    "\n",
    "list(X)"
   ]
  },
  {
   "cell_type": "code",
   "execution_count": 9,
   "metadata": {},
   "outputs": [],
   "source": [
    "kf = KFold(n_splits=5)\n",
    "\n",
    "#Repeats K-Fold n times with different randomization in each repetition\n",
    "rkf = RepeatedKFold(n_splits=5, n_repeats=1)\n",
    "\n",
    "#Leave P Out\n",
    "loo = LeaveOneOut()\n",
    "lpo = LeavePOut(3)\n",
    "\n",
    "#Random permutation cross-validator.\n",
    "#random splits do not guarantee that all folds will be different\n",
    "ss = ShuffleSplit(n_splits=5, test_size=0.25)"
   ]
  },
  {
   "cell_type": "code",
   "execution_count": 10,
   "metadata": {},
   "outputs": [],
   "source": [
    "cvs = [kf, rkf,loo,lpo,ss]"
   ]
  },
  {
   "cell_type": "code",
   "execution_count": 11,
   "metadata": {},
   "outputs": [
    {
     "name": "stdout",
     "output_type": "stream",
     "text": [
      "\n",
      " CV Split:  KFold \n",
      "\n",
      "  [2 3 4 5 6 7 8] [0 1]\n",
      "  [0 1 4 5 6 7 8] [2 3]\n",
      "  [0 1 2 3 6 7 8] [4 5]\n",
      "  [0 1 2 3 4 5 8] [6 7]\n",
      "  [0 1 2 3 4 5 6 7] [8]\n",
      "  ---------------------\n",
      "\n",
      " CV Split:  RepeatedKFold \n",
      "\n",
      "  [0 1 2 4 5 7 8] [3 6]\n",
      "  [2 3 4 5 6 7 8] [0 1]\n",
      "  [0 1 3 5 6 7 8] [2 4]\n",
      "  [0 1 2 3 4 6 7] [5 8]\n",
      "  [0 1 2 3 4 5 6 8] [7]\n",
      "  ---------------------\n",
      "\n",
      " CV Split:  LeaveOneOut \n",
      "\n",
      "  [1 2 3 4 5 6 7 8] [0]\n",
      "  [0 2 3 4 5 6 7 8] [1]\n",
      "  [0 1 3 4 5 6 7 8] [2]\n",
      "  [0 1 2 4 5 6 7 8] [3]\n",
      "  [0 1 2 3 5 6 7 8] [4]\n",
      "  [0 1 2 3 4 6 7 8] [5]\n",
      "  [0 1 2 3 4 5 7 8] [6]\n",
      "  [0 1 2 3 4 5 6 8] [7]\n",
      "  [0 1 2 3 4 5 6 7] [8]\n",
      "  ---------------------\n",
      "\n",
      " CV Split:  LeavePOut \n",
      "\n",
      "  [3 4 5 6 7 8] [0 1 2]\n",
      "  [2 4 5 6 7 8] [0 1 3]\n",
      "  [2 3 5 6 7 8] [0 1 4]\n",
      "  [2 3 4 6 7 8] [0 1 5]\n",
      "  [2 3 4 5 7 8] [0 1 6]\n",
      "  [2 3 4 5 6 8] [0 1 7]\n",
      "  [2 3 4 5 6 7] [0 1 8]\n",
      "  [1 4 5 6 7 8] [0 2 3]\n",
      "  [1 3 5 6 7 8] [0 2 4]\n",
      "  [1 3 4 6 7 8] [0 2 5]\n",
      "  [1 3 4 5 7 8] [0 2 6]\n",
      "  [1 3 4 5 6 8] [0 2 7]\n",
      "  [1 3 4 5 6 7] [0 2 8]\n",
      "  [1 2 5 6 7 8] [0 3 4]\n",
      "  [1 2 4 6 7 8] [0 3 5]\n",
      "  [1 2 4 5 7 8] [0 3 6]\n",
      "  [1 2 4 5 6 8] [0 3 7]\n",
      "  [1 2 4 5 6 7] [0 3 8]\n",
      "  [1 2 3 6 7 8] [0 4 5]\n",
      "  [1 2 3 5 7 8] [0 4 6]\n",
      "  [1 2 3 5 6 8] [0 4 7]\n",
      "  [1 2 3 5 6 7] [0 4 8]\n",
      "  [1 2 3 4 7 8] [0 5 6]\n",
      "  [1 2 3 4 6 8] [0 5 7]\n",
      "  [1 2 3 4 6 7] [0 5 8]\n",
      "  [1 2 3 4 5 8] [0 6 7]\n",
      "  [1 2 3 4 5 7] [0 6 8]\n",
      "  [1 2 3 4 5 6] [0 7 8]\n",
      "  [0 4 5 6 7 8] [1 2 3]\n",
      "  [0 3 5 6 7 8] [1 2 4]\n",
      "  [0 3 4 6 7 8] [1 2 5]\n",
      "  [0 3 4 5 7 8] [1 2 6]\n",
      "  [0 3 4 5 6 8] [1 2 7]\n",
      "  [0 3 4 5 6 7] [1 2 8]\n",
      "  [0 2 5 6 7 8] [1 3 4]\n",
      "  [0 2 4 6 7 8] [1 3 5]\n",
      "  [0 2 4 5 7 8] [1 3 6]\n",
      "  [0 2 4 5 6 8] [1 3 7]\n",
      "  [0 2 4 5 6 7] [1 3 8]\n",
      "  [0 2 3 6 7 8] [1 4 5]\n",
      "  [0 2 3 5 7 8] [1 4 6]\n",
      "  [0 2 3 5 6 8] [1 4 7]\n",
      "  [0 2 3 5 6 7] [1 4 8]\n",
      "  [0 2 3 4 7 8] [1 5 6]\n",
      "  [0 2 3 4 6 8] [1 5 7]\n",
      "  [0 2 3 4 6 7] [1 5 8]\n",
      "  [0 2 3 4 5 8] [1 6 7]\n",
      "  [0 2 3 4 5 7] [1 6 8]\n",
      "  [0 2 3 4 5 6] [1 7 8]\n",
      "  [0 1 5 6 7 8] [2 3 4]\n",
      "  [0 1 4 6 7 8] [2 3 5]\n",
      "  [0 1 4 5 7 8] [2 3 6]\n",
      "  [0 1 4 5 6 8] [2 3 7]\n",
      "  [0 1 4 5 6 7] [2 3 8]\n",
      "  [0 1 3 6 7 8] [2 4 5]\n",
      "  [0 1 3 5 7 8] [2 4 6]\n",
      "  [0 1 3 5 6 8] [2 4 7]\n",
      "  [0 1 3 5 6 7] [2 4 8]\n",
      "  [0 1 3 4 7 8] [2 5 6]\n",
      "  [0 1 3 4 6 8] [2 5 7]\n",
      "  [0 1 3 4 6 7] [2 5 8]\n",
      "  [0 1 3 4 5 8] [2 6 7]\n",
      "  [0 1 3 4 5 7] [2 6 8]\n",
      "  [0 1 3 4 5 6] [2 7 8]\n",
      "  [0 1 2 6 7 8] [3 4 5]\n",
      "  [0 1 2 5 7 8] [3 4 6]\n",
      "  [0 1 2 5 6 8] [3 4 7]\n",
      "  [0 1 2 5 6 7] [3 4 8]\n",
      "  [0 1 2 4 7 8] [3 5 6]\n",
      "  [0 1 2 4 6 8] [3 5 7]\n",
      "  [0 1 2 4 6 7] [3 5 8]\n",
      "  [0 1 2 4 5 8] [3 6 7]\n",
      "  [0 1 2 4 5 7] [3 6 8]\n",
      "  [0 1 2 4 5 6] [3 7 8]\n",
      "  [0 1 2 3 7 8] [4 5 6]\n",
      "  [0 1 2 3 6 8] [4 5 7]\n",
      "  [0 1 2 3 6 7] [4 5 8]\n",
      "  [0 1 2 3 5 8] [4 6 7]\n",
      "  [0 1 2 3 5 7] [4 6 8]\n",
      "  [0 1 2 3 5 6] [4 7 8]\n",
      "  [0 1 2 3 4 8] [5 6 7]\n",
      "  [0 1 2 3 4 7] [5 6 8]\n",
      "  [0 1 2 3 4 6] [5 7 8]\n",
      "  [0 1 2 3 4 5] [6 7 8]\n",
      "  ---------------------\n",
      "\n",
      " CV Split:  ShuffleSplit \n",
      "\n",
      "  [1 3 7 8 6 2] [5 4 0]\n",
      "  [0 7 3 2 1 5] [4 8 6]\n",
      "  [6 0 8 7 4 3] [1 2 5]\n",
      "  [7 5 1 6 3 2] [8 4 0]\n",
      "  [4 6 8 5 2 3] [1 0 7]\n",
      "  ---------------------\n"
     ]
    }
   ],
   "source": [
    "for cv in cvs:\n",
    "    print(\"\\n CV Split: \", cv.__class__.__name__, \"\\n\")\n",
    "    for train, test in cv.split(X):\n",
    "        print(\"  %s %s\" % (train, test))\n",
    "    print(\"  ---------------------\")"
   ]
  },
  {
   "cell_type": "code",
   "execution_count": null,
   "metadata": {},
   "outputs": [],
   "source": []
  }
 ],
 "metadata": {
  "kernelspec": {
   "display_name": "Python 3",
   "language": "python",
   "name": "python3"
  },
  "language_info": {
   "codemirror_mode": {
    "name": "ipython",
    "version": 3
   },
   "file_extension": ".py",
   "mimetype": "text/x-python",
   "name": "python",
   "nbconvert_exporter": "python",
   "pygments_lexer": "ipython3",
   "version": "3.7.4"
  }
 },
 "nbformat": 4,
 "nbformat_minor": 4
}
